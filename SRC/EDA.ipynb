{
 "cells": [
  {
   "cell_type": "markdown",
   "id": "383c955f",
   "metadata": {},
   "source": [
    "# Exploratory Data Analysis of the Flickr8k Dataset"
   ]
  },
  {
   "cell_type": "markdown",
   "id": "605d42f0",
   "metadata": {},
   "source": [
    "In this notebook we will analyse the main characteristics of the Flickr8k Dataset. In particular, we will be using the version of this [Kaggle Dataset](https://www.kaggle.com/datasets/adityajn105/flickr8k/code?datasetId=623289&sortBy=voteCount). We will extract and comment the information as we run code.\n",
    "\n",
    "First, let's do the necessary imports."
   ]
  },
  {
   "cell_type": "markdown",
   "id": "2af4de7f",
   "metadata": {},
   "source": [
    "## Imports"
   ]
  },
  {
   "cell_type": "code",
   "execution_count": 16,
   "id": "66abc602",
   "metadata": {},
   "outputs": [],
   "source": [
    "import numpy as np\n",
    "import torch\n",
    "import os\n",
    "import joblib\n",
    "import sys"
   ]
  },
  {
   "cell_type": "markdown",
   "id": "15dcd64c",
   "metadata": {},
   "source": [
    "## Loading the Dataset"
   ]
  },
  {
   "cell_type": "markdown",
   "id": "c4245da3",
   "metadata": {},
   "source": [
    "**Important**: Change the following paths to match the location where your data is stored."
   ]
  },
  {
   "cell_type": "code",
   "execution_count": 17,
   "id": "f03401b7",
   "metadata": {},
   "outputs": [],
   "source": [
    "DATA_LOCATION = '../data'\n",
    "root_dir = DATA_LOCATION+\"/Images\",\n",
    "captions_file = DATA_LOCATION+\"/captions.txt\""
   ]
  },
  {
   "cell_type": "markdown",
   "id": "186752ae",
   "metadata": {},
   "source": [
    "**Also important**: If you can't run the `joblib.load()` in the cell ahead, then run the following lines of code to add the explicit path to the folder SRC."
   ]
  },
  {
   "cell_type": "code",
   "execution_count": 21,
   "id": "9d3a46d0",
   "metadata": {},
   "outputs": [
    {
     "data": {
      "text/plain": [
       "\"\\nfull_path_to_SRC = 'C:/Users/donai/Documents/MyDocs/Universitat/Tercer curs/Semestre 2/Xarxes Neuronals i Aprenentatge Profund/Exercicis/xnap-project-matcad_grup_10'\\nsys.path.append(full_path_to_SRC)\\n\""
      ]
     },
     "execution_count": 21,
     "metadata": {},
     "output_type": "execute_result"
    }
   ],
   "source": [
    "# Only run if necessary\n",
    "\"\"\"\n",
    "full_path_to_SRC = 'C:/Users/donai/Documents/MyDocs/Universitat/Tercer curs/Semestre 2/Xarxes Neuronals i Aprenentatge Profund/Exercicis/xnap-project-matcad_grup_10'\n",
    "sys.path.append(full_path_to_SRC)\n",
    "\"\"\""
   ]
  },
  {
   "cell_type": "markdown",
   "id": "335046ce",
   "metadata": {},
   "source": [
    "Now, let's use the `load()` function from the `Joblib` library to load the custom dataset stored in the `.joblib` file."
   ]
  },
  {
   "cell_type": "code",
   "execution_count": 19,
   "id": "6cb81210",
   "metadata": {},
   "outputs": [],
   "source": [
    "dataset = joblib.load(DATA_LOCATION + \"/processed_dataset.joblib\")"
   ]
  },
  {
   "cell_type": "code",
   "execution_count": null,
   "id": "c286ba7f",
   "metadata": {},
   "outputs": [],
   "source": []
  },
  {
   "cell_type": "code",
   "execution_count": null,
   "id": "2f1f1879",
   "metadata": {},
   "outputs": [],
   "source": []
  },
  {
   "cell_type": "code",
   "execution_count": null,
   "id": "57be72ed",
   "metadata": {},
   "outputs": [],
   "source": []
  }
 ],
 "metadata": {
  "kernelspec": {
   "display_name": "Python 3",
   "language": "python",
   "name": "python3"
  },
  "language_info": {
   "codemirror_mode": {
    "name": "ipython",
    "version": 3
   },
   "file_extension": ".py",
   "mimetype": "text/x-python",
   "name": "python",
   "nbconvert_exporter": "python",
   "pygments_lexer": "ipython3",
   "version": "3.8.8"
  }
 },
 "nbformat": 4,
 "nbformat_minor": 5
}
