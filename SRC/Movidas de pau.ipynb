{
 "cells": [
  {
   "cell_type": "code",
   "execution_count": 3,
   "id": "e6be0823",
   "metadata": {
    "tags": [
     "remove_cell"
    ]
   },
   "outputs": [],
   "source": [
    "import pandas as pd\n",
    "from collections import Counter\n",
    "import spacy\n",
    "import torch\n",
    "import torch.nn as nn\n",
    "from torch.nn.utils.rnn import pad_sequence\n",
    "from torch.utils.data import Dataset, DataLoader\n",
    "import os\n",
    "from PIL import Image\n",
    "import joblib\n",
    "from copy import deepcopy\n",
    "from sklearn.model_selection import train_test_split\n",
    "from models.models import *\n",
    "from utils.utils import *\n"
   ]
  },
  {
   "cell_type": "code",
   "execution_count": 2,
   "id": "fa00c959",
   "metadata": {},
   "outputs": [],
   "source": [
    "import sys\n",
    "full_path_to_SRC = 'C:/Users/Pau/Desktop/PycharmProjects/xnap-project-matcad_grup_10'\n",
    "sys.path.append(full_path_to_SRC)"
   ]
  },
  {
   "cell_type": "code",
   "execution_count": 8,
   "id": "4000d57f",
   "metadata": {},
   "outputs": [],
   "source": [
    "dataset = joblib.load('../data' + \"/processed_dataset.joblib\")"
   ]
  },
  {
   "cell_type": "code",
   "execution_count": null,
   "id": "65709125",
   "metadata": {},
   "outputs": [],
   "source": []
  },
  {
   "cell_type": "code",
   "execution_count": 9,
   "id": "75d699cc",
   "metadata": {},
   "outputs": [],
   "source": [
    "data_loader = get_data_loader(dataset, 256)"
   ]
  },
  {
   "cell_type": "code",
   "execution_count": 10,
   "id": "a5f04344",
   "metadata": {},
   "outputs": [
    {
     "ename": "AttributeError",
     "evalue": "Caught AttributeError in DataLoader worker process 0.\nOriginal Traceback (most recent call last):\n  File \"C:\\Users\\Pau\\anaconda3\\envs\\xnap-example\\lib\\site-packages\\torch\\utils\\data\\_utils\\worker.py\", line 308, in _worker_loop\n    data = fetcher.fetch(index)\n  File \"C:\\Users\\Pau\\anaconda3\\envs\\xnap-example\\lib\\site-packages\\torch\\utils\\data\\_utils\\fetch.py\", line 51, in fetch\n    data = [self.dataset[idx] for idx in possibly_batched_index]\n  File \"C:\\Users\\Pau\\anaconda3\\envs\\xnap-example\\lib\\site-packages\\torch\\utils\\data\\_utils\\fetch.py\", line 51, in <listcomp>\n    data = [self.dataset[idx] for idx in possibly_batched_index]\n  File \"C:\\Users\\Pau\\Desktop\\PycharmProjects\\xnap-project-matcad_grup_10\\SRC\\utils\\utils.py\", line 152, in __getitem__\n    caption_vec += self.vocab.numericalize(caption, self.spacy_eng)\nAttributeError: 'FlickrDataset' object has no attribute 'spacy_eng'\n",
     "output_type": "error",
     "traceback": [
      "\u001b[1;31m---------------------------------------------------------------------------\u001b[0m",
      "\u001b[1;31mAttributeError\u001b[0m                            Traceback (most recent call last)",
      "Cell \u001b[1;32mIn[10], line 1\u001b[0m\n\u001b[1;32m----> 1\u001b[0m \u001b[38;5;28;01mfor\u001b[39;00m i, j \u001b[38;5;129;01min\u001b[39;00m data_loader:\n\u001b[0;32m      2\u001b[0m     \u001b[38;5;28mprint\u001b[39m(i)\n",
      "File \u001b[1;32m~\\anaconda3\\envs\\xnap-example\\lib\\site-packages\\torch\\utils\\data\\dataloader.py:633\u001b[0m, in \u001b[0;36m_BaseDataLoaderIter.__next__\u001b[1;34m(self)\u001b[0m\n\u001b[0;32m    630\u001b[0m \u001b[38;5;28;01mif\u001b[39;00m \u001b[38;5;28mself\u001b[39m\u001b[38;5;241m.\u001b[39m_sampler_iter \u001b[38;5;129;01mis\u001b[39;00m \u001b[38;5;28;01mNone\u001b[39;00m:\n\u001b[0;32m    631\u001b[0m     \u001b[38;5;66;03m# TODO(https://github.com/pytorch/pytorch/issues/76750)\u001b[39;00m\n\u001b[0;32m    632\u001b[0m     \u001b[38;5;28mself\u001b[39m\u001b[38;5;241m.\u001b[39m_reset()  \u001b[38;5;66;03m# type: ignore[call-arg]\u001b[39;00m\n\u001b[1;32m--> 633\u001b[0m data \u001b[38;5;241m=\u001b[39m \u001b[38;5;28;43mself\u001b[39;49m\u001b[38;5;241;43m.\u001b[39;49m\u001b[43m_next_data\u001b[49m\u001b[43m(\u001b[49m\u001b[43m)\u001b[49m\n\u001b[0;32m    634\u001b[0m \u001b[38;5;28mself\u001b[39m\u001b[38;5;241m.\u001b[39m_num_yielded \u001b[38;5;241m+\u001b[39m\u001b[38;5;241m=\u001b[39m \u001b[38;5;241m1\u001b[39m\n\u001b[0;32m    635\u001b[0m \u001b[38;5;28;01mif\u001b[39;00m \u001b[38;5;28mself\u001b[39m\u001b[38;5;241m.\u001b[39m_dataset_kind \u001b[38;5;241m==\u001b[39m _DatasetKind\u001b[38;5;241m.\u001b[39mIterable \u001b[38;5;129;01mand\u001b[39;00m \\\n\u001b[0;32m    636\u001b[0m         \u001b[38;5;28mself\u001b[39m\u001b[38;5;241m.\u001b[39m_IterableDataset_len_called \u001b[38;5;129;01mis\u001b[39;00m \u001b[38;5;129;01mnot\u001b[39;00m \u001b[38;5;28;01mNone\u001b[39;00m \u001b[38;5;129;01mand\u001b[39;00m \\\n\u001b[0;32m    637\u001b[0m         \u001b[38;5;28mself\u001b[39m\u001b[38;5;241m.\u001b[39m_num_yielded \u001b[38;5;241m>\u001b[39m \u001b[38;5;28mself\u001b[39m\u001b[38;5;241m.\u001b[39m_IterableDataset_len_called:\n",
      "File \u001b[1;32m~\\anaconda3\\envs\\xnap-example\\lib\\site-packages\\torch\\utils\\data\\dataloader.py:1345\u001b[0m, in \u001b[0;36m_MultiProcessingDataLoaderIter._next_data\u001b[1;34m(self)\u001b[0m\n\u001b[0;32m   1343\u001b[0m \u001b[38;5;28;01melse\u001b[39;00m:\n\u001b[0;32m   1344\u001b[0m     \u001b[38;5;28;01mdel\u001b[39;00m \u001b[38;5;28mself\u001b[39m\u001b[38;5;241m.\u001b[39m_task_info[idx]\n\u001b[1;32m-> 1345\u001b[0m     \u001b[38;5;28;01mreturn\u001b[39;00m \u001b[38;5;28;43mself\u001b[39;49m\u001b[38;5;241;43m.\u001b[39;49m\u001b[43m_process_data\u001b[49m\u001b[43m(\u001b[49m\u001b[43mdata\u001b[49m\u001b[43m)\u001b[49m\n",
      "File \u001b[1;32m~\\anaconda3\\envs\\xnap-example\\lib\\site-packages\\torch\\utils\\data\\dataloader.py:1371\u001b[0m, in \u001b[0;36m_MultiProcessingDataLoaderIter._process_data\u001b[1;34m(self, data)\u001b[0m\n\u001b[0;32m   1369\u001b[0m \u001b[38;5;28mself\u001b[39m\u001b[38;5;241m.\u001b[39m_try_put_index()\n\u001b[0;32m   1370\u001b[0m \u001b[38;5;28;01mif\u001b[39;00m \u001b[38;5;28misinstance\u001b[39m(data, ExceptionWrapper):\n\u001b[1;32m-> 1371\u001b[0m     \u001b[43mdata\u001b[49m\u001b[38;5;241;43m.\u001b[39;49m\u001b[43mreraise\u001b[49m\u001b[43m(\u001b[49m\u001b[43m)\u001b[49m\n\u001b[0;32m   1372\u001b[0m \u001b[38;5;28;01mreturn\u001b[39;00m data\n",
      "File \u001b[1;32m~\\anaconda3\\envs\\xnap-example\\lib\\site-packages\\torch\\_utils.py:644\u001b[0m, in \u001b[0;36mExceptionWrapper.reraise\u001b[1;34m(self)\u001b[0m\n\u001b[0;32m    640\u001b[0m \u001b[38;5;28;01mexcept\u001b[39;00m \u001b[38;5;167;01mTypeError\u001b[39;00m:\n\u001b[0;32m    641\u001b[0m     \u001b[38;5;66;03m# If the exception takes multiple arguments, don't try to\u001b[39;00m\n\u001b[0;32m    642\u001b[0m     \u001b[38;5;66;03m# instantiate since we don't know how to\u001b[39;00m\n\u001b[0;32m    643\u001b[0m     \u001b[38;5;28;01mraise\u001b[39;00m \u001b[38;5;167;01mRuntimeError\u001b[39;00m(msg) \u001b[38;5;28;01mfrom\u001b[39;00m \u001b[38;5;28mNone\u001b[39m\n\u001b[1;32m--> 644\u001b[0m \u001b[38;5;28;01mraise\u001b[39;00m exception\n",
      "\u001b[1;31mAttributeError\u001b[0m: Caught AttributeError in DataLoader worker process 0.\nOriginal Traceback (most recent call last):\n  File \"C:\\Users\\Pau\\anaconda3\\envs\\xnap-example\\lib\\site-packages\\torch\\utils\\data\\_utils\\worker.py\", line 308, in _worker_loop\n    data = fetcher.fetch(index)\n  File \"C:\\Users\\Pau\\anaconda3\\envs\\xnap-example\\lib\\site-packages\\torch\\utils\\data\\_utils\\fetch.py\", line 51, in fetch\n    data = [self.dataset[idx] for idx in possibly_batched_index]\n  File \"C:\\Users\\Pau\\anaconda3\\envs\\xnap-example\\lib\\site-packages\\torch\\utils\\data\\_utils\\fetch.py\", line 51, in <listcomp>\n    data = [self.dataset[idx] for idx in possibly_batched_index]\n  File \"C:\\Users\\Pau\\Desktop\\PycharmProjects\\xnap-project-matcad_grup_10\\SRC\\utils\\utils.py\", line 152, in __getitem__\n    caption_vec += self.vocab.numericalize(caption, self.spacy_eng)\nAttributeError: 'FlickrDataset' object has no attribute 'spacy_eng'\n"
     ]
    }
   ],
   "source": [
    "for i, j in data_loader:\n",
    "    print(i)"
   ]
  },
  {
   "cell_type": "code",
   "execution_count": null,
   "id": "06b25bf8",
   "metadata": {},
   "outputs": [],
   "source": []
  },
  {
   "cell_type": "code",
   "execution_count": null,
   "id": "a12ee00f",
   "metadata": {},
   "outputs": [],
   "source": []
  },
  {
   "cell_type": "code",
   "execution_count": null,
   "id": "152dcf4c",
   "metadata": {},
   "outputs": [],
   "source": []
  },
  {
   "cell_type": "code",
   "execution_count": 12,
   "id": "41cf5405",
   "metadata": {
    "scrolled": true
   },
   "outputs": [
    {
     "data": {
      "text/plain": [
       "0"
      ]
     },
     "execution_count": 12,
     "metadata": {},
     "output_type": "execute_result"
    }
   ],
   "source": [
    "(dataset.df.groupby('image')['caption'].count() != 5) .sum()"
   ]
  },
  {
   "cell_type": "code",
   "execution_count": 23,
   "id": "b1ef98bd",
   "metadata": {},
   "outputs": [],
   "source": [
    "train_pct = 0.2\n"
   ]
  },
  {
   "cell_type": "code",
   "execution_count": 24,
   "id": "e7e3a391",
   "metadata": {},
   "outputs": [],
   "source": [
    "to_train = int(dataset.df.shape[0]*train_pct)\n",
    "\n",
    "while to_train % 5 != 0: # While some image still splits into train and test, take more images\n",
    "    to_train += 1"
   ]
  },
  {
   "cell_type": "code",
   "execution_count": 25,
   "id": "4ff3ee9c",
   "metadata": {},
   "outputs": [
    {
     "data": {
      "text/plain": [
       "8095"
      ]
     },
     "execution_count": 25,
     "metadata": {},
     "output_type": "execute_result"
    }
   ],
   "source": [
    "to_train"
   ]
  },
  {
   "cell_type": "code",
   "execution_count": 26,
   "id": "ed64fdd5",
   "metadata": {},
   "outputs": [
    {
     "data": {
      "text/html": [
       "<div>\n",
       "<style scoped>\n",
       "    .dataframe tbody tr th:only-of-type {\n",
       "        vertical-align: middle;\n",
       "    }\n",
       "\n",
       "    .dataframe tbody tr th {\n",
       "        vertical-align: top;\n",
       "    }\n",
       "\n",
       "    .dataframe thead th {\n",
       "        text-align: right;\n",
       "    }\n",
       "</style>\n",
       "<table border=\"1\" class=\"dataframe\">\n",
       "  <thead>\n",
       "    <tr style=\"text-align: right;\">\n",
       "      <th></th>\n",
       "      <th>image</th>\n",
       "      <th>caption</th>\n",
       "    </tr>\n",
       "  </thead>\n",
       "  <tbody>\n",
       "    <tr>\n",
       "      <th>0</th>\n",
       "      <td>1000268201_693b08cb0e.jpg</td>\n",
       "      <td>A child in a pink dress is climbing up a set o...</td>\n",
       "    </tr>\n",
       "    <tr>\n",
       "      <th>1</th>\n",
       "      <td>1000268201_693b08cb0e.jpg</td>\n",
       "      <td>A girl going into a wooden building .</td>\n",
       "    </tr>\n",
       "    <tr>\n",
       "      <th>2</th>\n",
       "      <td>1000268201_693b08cb0e.jpg</td>\n",
       "      <td>A little girl climbing into a wooden playhouse .</td>\n",
       "    </tr>\n",
       "    <tr>\n",
       "      <th>3</th>\n",
       "      <td>1000268201_693b08cb0e.jpg</td>\n",
       "      <td>A little girl climbing the stairs to her playh...</td>\n",
       "    </tr>\n",
       "    <tr>\n",
       "      <th>4</th>\n",
       "      <td>1000268201_693b08cb0e.jpg</td>\n",
       "      <td>A little girl in a pink dress going into a woo...</td>\n",
       "    </tr>\n",
       "    <tr>\n",
       "      <th>...</th>\n",
       "      <td>...</td>\n",
       "      <td>...</td>\n",
       "    </tr>\n",
       "    <tr>\n",
       "      <th>8094</th>\n",
       "      <td>2356574282_5078f08b58.jpg</td>\n",
       "      <td>A woman in a dance costume is bending over bac...</td>\n",
       "    </tr>\n",
       "    <tr>\n",
       "      <th>8093</th>\n",
       "      <td>2356574282_5078f08b58.jpg</td>\n",
       "      <td>A woman in a belly dancing outfit bending over...</td>\n",
       "    </tr>\n",
       "    <tr>\n",
       "      <th>8092</th>\n",
       "      <td>2356574282_5078f08b58.jpg</td>\n",
       "      <td>A woman bending over backwards .</td>\n",
       "    </tr>\n",
       "    <tr>\n",
       "      <th>8091</th>\n",
       "      <td>2356574282_5078f08b58.jpg</td>\n",
       "      <td>A costumed woman with a sword does a backbend .</td>\n",
       "    </tr>\n",
       "    <tr>\n",
       "      <th>8090</th>\n",
       "      <td>2356574282_5078f08b58.jpg</td>\n",
       "      <td>A Arabian dressed lady leans backwards holding...</td>\n",
       "    </tr>\n",
       "  </tbody>\n",
       "</table>\n",
       "<p>8095 rows × 2 columns</p>\n",
       "</div>"
      ],
      "text/plain": [
       "                          image  \\\n",
       "0     1000268201_693b08cb0e.jpg   \n",
       "1     1000268201_693b08cb0e.jpg   \n",
       "2     1000268201_693b08cb0e.jpg   \n",
       "3     1000268201_693b08cb0e.jpg   \n",
       "4     1000268201_693b08cb0e.jpg   \n",
       "...                         ...   \n",
       "8094  2356574282_5078f08b58.jpg   \n",
       "8093  2356574282_5078f08b58.jpg   \n",
       "8092  2356574282_5078f08b58.jpg   \n",
       "8091  2356574282_5078f08b58.jpg   \n",
       "8090  2356574282_5078f08b58.jpg   \n",
       "\n",
       "                                                caption  \n",
       "0     A child in a pink dress is climbing up a set o...  \n",
       "1                 A girl going into a wooden building .  \n",
       "2      A little girl climbing into a wooden playhouse .  \n",
       "3     A little girl climbing the stairs to her playh...  \n",
       "4     A little girl in a pink dress going into a woo...  \n",
       "...                                                 ...  \n",
       "8094  A woman in a dance costume is bending over bac...  \n",
       "8093  A woman in a belly dancing outfit bending over...  \n",
       "8092                   A woman bending over backwards .  \n",
       "8091    A costumed woman with a sword does a backbend .  \n",
       "8090  A Arabian dressed lady leans backwards holding...  \n",
       "\n",
       "[8095 rows x 2 columns]"
      ]
     },
     "execution_count": 26,
     "metadata": {},
     "output_type": "execute_result"
    }
   ],
   "source": [
    "dataset.df.sort_values(by='image').iloc[:to_train]"
   ]
  },
  {
   "cell_type": "code",
   "execution_count": 27,
   "id": "84c7ba74",
   "metadata": {},
   "outputs": [
    {
     "data": {
      "text/html": [
       "<div>\n",
       "<style scoped>\n",
       "    .dataframe tbody tr th:only-of-type {\n",
       "        vertical-align: middle;\n",
       "    }\n",
       "\n",
       "    .dataframe tbody tr th {\n",
       "        vertical-align: top;\n",
       "    }\n",
       "\n",
       "    .dataframe thead th {\n",
       "        text-align: right;\n",
       "    }\n",
       "</style>\n",
       "<table border=\"1\" class=\"dataframe\">\n",
       "  <thead>\n",
       "    <tr style=\"text-align: right;\">\n",
       "      <th></th>\n",
       "      <th>image</th>\n",
       "      <th>caption</th>\n",
       "    </tr>\n",
       "  </thead>\n",
       "  <tbody>\n",
       "    <tr>\n",
       "      <th>8095</th>\n",
       "      <td>2356664078_4b1e6e465d.jpg</td>\n",
       "      <td>Three dogs are running side by side on the gra...</td>\n",
       "    </tr>\n",
       "    <tr>\n",
       "      <th>8096</th>\n",
       "      <td>2356664078_4b1e6e465d.jpg</td>\n",
       "      <td>Three dogs , one Rottweiler with a tennis ball...</td>\n",
       "    </tr>\n",
       "    <tr>\n",
       "      <th>8097</th>\n",
       "      <td>2356664078_4b1e6e465d.jpg</td>\n",
       "      <td>Three dogs running in a field .</td>\n",
       "    </tr>\n",
       "    <tr>\n",
       "      <th>8098</th>\n",
       "      <td>2356664078_4b1e6e465d.jpg</td>\n",
       "      <td>Three dogs trot on a stretch of grass , and on...</td>\n",
       "    </tr>\n",
       "    <tr>\n",
       "      <th>8099</th>\n",
       "      <td>2356664078_4b1e6e465d.jpg</td>\n",
       "      <td>Three dogs with tongues out running on the gra...</td>\n",
       "    </tr>\n",
       "    <tr>\n",
       "      <th>...</th>\n",
       "      <td>...</td>\n",
       "      <td>...</td>\n",
       "    </tr>\n",
       "    <tr>\n",
       "      <th>40452</th>\n",
       "      <td>997722733_0cb5439472.jpg</td>\n",
       "      <td>A person in a red shirt climbing up a rock fac...</td>\n",
       "    </tr>\n",
       "    <tr>\n",
       "      <th>40453</th>\n",
       "      <td>997722733_0cb5439472.jpg</td>\n",
       "      <td>A rock climber in a red shirt .</td>\n",
       "    </tr>\n",
       "    <tr>\n",
       "      <th>40450</th>\n",
       "      <td>997722733_0cb5439472.jpg</td>\n",
       "      <td>A man in a pink shirt climbs a rock face</td>\n",
       "    </tr>\n",
       "    <tr>\n",
       "      <th>40451</th>\n",
       "      <td>997722733_0cb5439472.jpg</td>\n",
       "      <td>A man is rock climbing high in the air .</td>\n",
       "    </tr>\n",
       "    <tr>\n",
       "      <th>40454</th>\n",
       "      <td>997722733_0cb5439472.jpg</td>\n",
       "      <td>A rock climber practices on a rock climbing wa...</td>\n",
       "    </tr>\n",
       "  </tbody>\n",
       "</table>\n",
       "<p>32360 rows × 2 columns</p>\n",
       "</div>"
      ],
      "text/plain": [
       "                           image  \\\n",
       "8095   2356664078_4b1e6e465d.jpg   \n",
       "8096   2356664078_4b1e6e465d.jpg   \n",
       "8097   2356664078_4b1e6e465d.jpg   \n",
       "8098   2356664078_4b1e6e465d.jpg   \n",
       "8099   2356664078_4b1e6e465d.jpg   \n",
       "...                          ...   \n",
       "40452   997722733_0cb5439472.jpg   \n",
       "40453   997722733_0cb5439472.jpg   \n",
       "40450   997722733_0cb5439472.jpg   \n",
       "40451   997722733_0cb5439472.jpg   \n",
       "40454   997722733_0cb5439472.jpg   \n",
       "\n",
       "                                                 caption  \n",
       "8095   Three dogs are running side by side on the gra...  \n",
       "8096   Three dogs , one Rottweiler with a tennis ball...  \n",
       "8097                     Three dogs running in a field .  \n",
       "8098   Three dogs trot on a stretch of grass , and on...  \n",
       "8099   Three dogs with tongues out running on the gra...  \n",
       "...                                                  ...  \n",
       "40452  A person in a red shirt climbing up a rock fac...  \n",
       "40453                    A rock climber in a red shirt .  \n",
       "40450           A man in a pink shirt climbs a rock face  \n",
       "40451           A man is rock climbing high in the air .  \n",
       "40454  A rock climber practices on a rock climbing wa...  \n",
       "\n",
       "[32360 rows x 2 columns]"
      ]
     },
     "execution_count": 27,
     "metadata": {},
     "output_type": "execute_result"
    }
   ],
   "source": [
    "dataset.df.sort_values(by='image').iloc[to_train:]"
   ]
  },
  {
   "cell_type": "code",
   "execution_count": null,
   "id": "86f7d450",
   "metadata": {},
   "outputs": [],
   "source": []
  },
  {
   "cell_type": "code",
   "execution_count": null,
   "id": "79955870",
   "metadata": {},
   "outputs": [],
   "source": []
  },
  {
   "cell_type": "code",
   "execution_count": null,
   "id": "3f1a34cc",
   "metadata": {},
   "outputs": [],
   "source": []
  },
  {
   "cell_type": "code",
   "execution_count": null,
   "id": "82992cc4",
   "metadata": {},
   "outputs": [],
   "source": []
  },
  {
   "cell_type": "markdown",
   "id": "5524aa52",
   "metadata": {},
   "source": [
    "# A PARTIR DE AQUI FUNCIONA"
   ]
  },
  {
   "cell_type": "code",
   "execution_count": 12,
   "id": "31a454eb",
   "metadata": {},
   "outputs": [
    {
     "data": {
      "text/html": [
       "<div>\n",
       "<style scoped>\n",
       "    .dataframe tbody tr th:only-of-type {\n",
       "        vertical-align: middle;\n",
       "    }\n",
       "\n",
       "    .dataframe tbody tr th {\n",
       "        vertical-align: top;\n",
       "    }\n",
       "\n",
       "    .dataframe thead th {\n",
       "        text-align: right;\n",
       "    }\n",
       "</style>\n",
       "<table border=\"1\" class=\"dataframe\">\n",
       "  <thead>\n",
       "    <tr style=\"text-align: right;\">\n",
       "      <th></th>\n",
       "      <th>image</th>\n",
       "      <th>caption</th>\n",
       "    </tr>\n",
       "  </thead>\n",
       "  <tbody>\n",
       "    <tr>\n",
       "      <th>0</th>\n",
       "      <td>1000268201_693b08cb0e.jpg</td>\n",
       "      <td>A child in a pink dress is climbing up a set o...</td>\n",
       "    </tr>\n",
       "    <tr>\n",
       "      <th>1</th>\n",
       "      <td>1000268201_693b08cb0e.jpg</td>\n",
       "      <td>A girl going into a wooden building .</td>\n",
       "    </tr>\n",
       "    <tr>\n",
       "      <th>2</th>\n",
       "      <td>1000268201_693b08cb0e.jpg</td>\n",
       "      <td>A little girl climbing into a wooden playhouse .</td>\n",
       "    </tr>\n",
       "    <tr>\n",
       "      <th>3</th>\n",
       "      <td>1000268201_693b08cb0e.jpg</td>\n",
       "      <td>A little girl climbing the stairs to her playh...</td>\n",
       "    </tr>\n",
       "    <tr>\n",
       "      <th>4</th>\n",
       "      <td>1000268201_693b08cb0e.jpg</td>\n",
       "      <td>A little girl in a pink dress going into a woo...</td>\n",
       "    </tr>\n",
       "    <tr>\n",
       "      <th>...</th>\n",
       "      <td>...</td>\n",
       "      <td>...</td>\n",
       "    </tr>\n",
       "    <tr>\n",
       "      <th>40452</th>\n",
       "      <td>997722733_0cb5439472.jpg</td>\n",
       "      <td>A person in a red shirt climbing up a rock fac...</td>\n",
       "    </tr>\n",
       "    <tr>\n",
       "      <th>40453</th>\n",
       "      <td>997722733_0cb5439472.jpg</td>\n",
       "      <td>A rock climber in a red shirt .</td>\n",
       "    </tr>\n",
       "    <tr>\n",
       "      <th>40450</th>\n",
       "      <td>997722733_0cb5439472.jpg</td>\n",
       "      <td>A man in a pink shirt climbs a rock face</td>\n",
       "    </tr>\n",
       "    <tr>\n",
       "      <th>40451</th>\n",
       "      <td>997722733_0cb5439472.jpg</td>\n",
       "      <td>A man is rock climbing high in the air .</td>\n",
       "    </tr>\n",
       "    <tr>\n",
       "      <th>40454</th>\n",
       "      <td>997722733_0cb5439472.jpg</td>\n",
       "      <td>A rock climber practices on a rock climbing wa...</td>\n",
       "    </tr>\n",
       "  </tbody>\n",
       "</table>\n",
       "<p>40455 rows × 2 columns</p>\n",
       "</div>"
      ],
      "text/plain": [
       "                           image  \\\n",
       "0      1000268201_693b08cb0e.jpg   \n",
       "1      1000268201_693b08cb0e.jpg   \n",
       "2      1000268201_693b08cb0e.jpg   \n",
       "3      1000268201_693b08cb0e.jpg   \n",
       "4      1000268201_693b08cb0e.jpg   \n",
       "...                          ...   \n",
       "40452   997722733_0cb5439472.jpg   \n",
       "40453   997722733_0cb5439472.jpg   \n",
       "40450   997722733_0cb5439472.jpg   \n",
       "40451   997722733_0cb5439472.jpg   \n",
       "40454   997722733_0cb5439472.jpg   \n",
       "\n",
       "                                                 caption  \n",
       "0      A child in a pink dress is climbing up a set o...  \n",
       "1                  A girl going into a wooden building .  \n",
       "2       A little girl climbing into a wooden playhouse .  \n",
       "3      A little girl climbing the stairs to her playh...  \n",
       "4      A little girl in a pink dress going into a woo...  \n",
       "...                                                  ...  \n",
       "40452  A person in a red shirt climbing up a rock fac...  \n",
       "40453                    A rock climber in a red shirt .  \n",
       "40450           A man in a pink shirt climbs a rock face  \n",
       "40451           A man is rock climbing high in the air .  \n",
       "40454  A rock climber practices on a rock climbing wa...  \n",
       "\n",
       "[40455 rows x 2 columns]"
      ]
     },
     "execution_count": 12,
     "metadata": {},
     "output_type": "execute_result"
    }
   ],
   "source": [
    "import os\n",
    "import random\n",
    "import wandb\n",
    "\n",
    "import numpy as np\n",
    "import torch\n",
    "import torch.nn as nn\n",
    "import torchvision\n",
    "import torchvision.transforms as T\n",
    "\n",
    "from train import *\n",
    "from test import *\n",
    "from utils.utils import *\n",
    "from models.models import *\n",
    "import multiprocessing"
   ]
  },
  {
   "cell_type": "code",
   "execution_count": 84,
   "id": "5e3aa5e3",
   "metadata": {},
   "outputs": [],
   "source": [
    "\n",
    "DATA_LOCATION = '../data'\n",
    "device = 'cuda:0'\n",
    "\n",
    "transforms = T.Compose([\n",
    "    T.Resize(226),\n",
    "    T.RandomCrop(224),\n",
    "    T.ToTensor(),\n",
    "    T.Normalize((0.485, 0.456, 0.406), (0.229, 0.224, 0.225))\n",
    "])\n",
    "\n",
    "config = dict(\n",
    "    root_dir=DATA_LOCATION+\"/Images\",\n",
    "    captions_file=DATA_LOCATION+\"/captions.txt\",\n",
    "    device=device,\n",
    "    encoder='ResNet50',\n",
    "    transforms=transforms,\n",
    "    embed_size=300,\n",
    "    attention_dim=256,\n",
    "    encoder_dim=2048,\n",
    "    decoder_dim=512,\n",
    "    epochs=25,\n",
    "    learning_rate=3e-4,\n",
    "    batch_size=int(256),\n",
    "    DATA_LOCATION=DATA_LOCATION,\n",
    "    train_size=0.8,\n",
    "    save=True\n",
    ")\n",
    "\n",
    "def make_dataset(config):\n",
    "    dataset = joblib.load(config['DATA_LOCATION'] + \"/processed_dataset.joblib\")\n",
    "    dataset.spacy_eng = spacy.load(\"en_core_web_sm\")\n",
    "    return dataset\n",
    "\n",
    "def make_dataloaders(config, dataset, num_workers):\n",
    "    train_dataset, test_dataset = flickr_train_test_split(dataset, config['train_size'])\n",
    "\n",
    "    train_loader = get_data_loader(train_dataset, batch_size=config['batch_size'], num_workers=num_workers)\n",
    "    test_loader = get_data_loader(test_dataset, batch_size = 5, num_workers=num_workers)\n",
    "\n",
    "    return train_loader, test_loader\n",
    "dataset = make_dataset(config)\n",
    "\n",
    "vocab = dataset.vocab"
   ]
  },
  {
   "cell_type": "code",
   "execution_count": 87,
   "id": "3e32d074",
   "metadata": {},
   "outputs": [],
   "source": [
    "\n",
    "dataset.df = dataset.df.iloc[:1000]\n",
    "train_loader, test_loader = make_dataloaders(config, dataset, 1)"
   ]
  },
  {
   "cell_type": "code",
   "execution_count": 35,
   "id": "ccbe1d2a",
   "metadata": {},
   "outputs": [
    {
     "name": "stdout",
     "output_type": "stream",
     "text": [
      "10.11643099784851\n"
     ]
    }
   ],
   "source": [
    "\n",
    "t0 = time.time()\n",
    "for i, j in train_loader:\n",
    "    pass\n",
    "\n",
    "t1 = time.time()\n",
    "print(t1-t0)"
   ]
  },
  {
   "cell_type": "code",
   "execution_count": 90,
   "id": "851454fb",
   "metadata": {},
   "outputs": [
    {
     "data": {
      "text/html": [
       "<div>\n",
       "<style scoped>\n",
       "    .dataframe tbody tr th:only-of-type {\n",
       "        vertical-align: middle;\n",
       "    }\n",
       "\n",
       "    .dataframe tbody tr th {\n",
       "        vertical-align: top;\n",
       "    }\n",
       "\n",
       "    .dataframe thead th {\n",
       "        text-align: right;\n",
       "    }\n",
       "</style>\n",
       "<table border=\"1\" class=\"dataframe\">\n",
       "  <thead>\n",
       "    <tr style=\"text-align: right;\">\n",
       "      <th></th>\n",
       "      <th>image</th>\n",
       "      <th>caption</th>\n",
       "    </tr>\n",
       "  </thead>\n",
       "  <tbody>\n",
       "    <tr>\n",
       "      <th>0</th>\n",
       "      <td>1000268201_693b08cb0e.jpg</td>\n",
       "      <td>A child in a pink dress is climbing up a set o...</td>\n",
       "    </tr>\n",
       "    <tr>\n",
       "      <th>1</th>\n",
       "      <td>1000268201_693b08cb0e.jpg</td>\n",
       "      <td>A girl going into a wooden building .</td>\n",
       "    </tr>\n",
       "    <tr>\n",
       "      <th>2</th>\n",
       "      <td>1000268201_693b08cb0e.jpg</td>\n",
       "      <td>A little girl climbing into a wooden playhouse .</td>\n",
       "    </tr>\n",
       "    <tr>\n",
       "      <th>3</th>\n",
       "      <td>1000268201_693b08cb0e.jpg</td>\n",
       "      <td>A little girl climbing the stairs to her playh...</td>\n",
       "    </tr>\n",
       "    <tr>\n",
       "      <th>4</th>\n",
       "      <td>1000268201_693b08cb0e.jpg</td>\n",
       "      <td>A little girl in a pink dress going into a woo...</td>\n",
       "    </tr>\n",
       "    <tr>\n",
       "      <th>...</th>\n",
       "      <td>...</td>\n",
       "      <td>...</td>\n",
       "    </tr>\n",
       "    <tr>\n",
       "      <th>795</th>\n",
       "      <td>1177994172_10d143cb8d.jpg</td>\n",
       "      <td>Two blonde boys , one in a camouflage shirt an...</td>\n",
       "    </tr>\n",
       "    <tr>\n",
       "      <th>796</th>\n",
       "      <td>1177994172_10d143cb8d.jpg</td>\n",
       "      <td>Two boys are squirting water guns at each other .</td>\n",
       "    </tr>\n",
       "    <tr>\n",
       "      <th>797</th>\n",
       "      <td>1177994172_10d143cb8d.jpg</td>\n",
       "      <td>Two boys spraying each other with water</td>\n",
       "    </tr>\n",
       "    <tr>\n",
       "      <th>798</th>\n",
       "      <td>1177994172_10d143cb8d.jpg</td>\n",
       "      <td>Two children wearing jeans squirt water at eac...</td>\n",
       "    </tr>\n",
       "    <tr>\n",
       "      <th>799</th>\n",
       "      <td>1177994172_10d143cb8d.jpg</td>\n",
       "      <td>Two young boys are squirting water at each oth...</td>\n",
       "    </tr>\n",
       "  </tbody>\n",
       "</table>\n",
       "<p>800 rows × 2 columns</p>\n",
       "</div>"
      ],
      "text/plain": [
       "                         image  \\\n",
       "0    1000268201_693b08cb0e.jpg   \n",
       "1    1000268201_693b08cb0e.jpg   \n",
       "2    1000268201_693b08cb0e.jpg   \n",
       "3    1000268201_693b08cb0e.jpg   \n",
       "4    1000268201_693b08cb0e.jpg   \n",
       "..                         ...   \n",
       "795  1177994172_10d143cb8d.jpg   \n",
       "796  1177994172_10d143cb8d.jpg   \n",
       "797  1177994172_10d143cb8d.jpg   \n",
       "798  1177994172_10d143cb8d.jpg   \n",
       "799  1177994172_10d143cb8d.jpg   \n",
       "\n",
       "                                               caption  \n",
       "0    A child in a pink dress is climbing up a set o...  \n",
       "1                A girl going into a wooden building .  \n",
       "2     A little girl climbing into a wooden playhouse .  \n",
       "3    A little girl climbing the stairs to her playh...  \n",
       "4    A little girl in a pink dress going into a woo...  \n",
       "..                                                 ...  \n",
       "795  Two blonde boys , one in a camouflage shirt an...  \n",
       "796  Two boys are squirting water guns at each other .  \n",
       "797            Two boys spraying each other with water  \n",
       "798  Two children wearing jeans squirt water at eac...  \n",
       "799  Two young boys are squirting water at each oth...  \n",
       "\n",
       "[800 rows x 2 columns]"
      ]
     },
     "execution_count": 90,
     "metadata": {},
     "output_type": "execute_result"
    }
   ],
   "source": [
    "train_loader.dataset.df"
   ]
  },
  {
   "cell_type": "code",
   "execution_count": 91,
   "id": "5caa286c",
   "metadata": {},
   "outputs": [],
   "source": [
    "# Preprocessing the data\n",
    "data_list = []\n",
    "\n",
    "for _, (img_name, caption) in dataset.df.iterrows():\n",
    "    img_location = os.path.join(dataset.root_dir, img_name)\n",
    "    img = Image.open(img_location)\n",
    "    img = img.convert(\"RGB\")\n",
    "    \n",
    "    img = dataset.transform(img)\n",
    "     \n",
    "    caption_vec = []\n",
    "    caption_vec += [dataset.vocab.stoi[\"<SOS>\"]]\n",
    "    caption_vec += dataset.vocab.numericalize(caption, dataset.spacy_eng)\n",
    "    caption_vec += [dataset.vocab.stoi[\"<EOS>\"]]\n",
    "\n",
    "    data_list.append( [img.to(torch.int16), torch.tensor(caption_vec).to(torch.float16)] )\n",
    "    \n",
    "# Split into train and test\n",
    "\n",
    "pad_idx = dataset.vocab.stoi[\"<PAD>\"]\n",
    "collate_fn = CapsCollate(pad_idx=pad_idx, batch_first=True) # Fills the rest of the captions with padding\n",
    "\n",
    "data_loader = DataLoader(\n",
    "        dataset=data_list,\n",
    "        batch_size=50,\n",
    "    \tcollate_fn = collate_fn\n",
    "    )"
   ]
  },
  {
   "cell_type": "code",
   "execution_count": 124,
   "id": "60533da3",
   "metadata": {},
   "outputs": [
    {
     "ename": "ValueError",
     "evalue": "only one element tensors can be converted to Python scalars",
     "output_type": "error",
     "traceback": [
      "\u001b[1;31m---------------------------------------------------------------------------\u001b[0m",
      "\u001b[1;31mValueError\u001b[0m                                Traceback (most recent call last)",
      "Cell \u001b[1;32mIn[124], line 1\u001b[0m\n\u001b[1;32m----> 1\u001b[0m \u001b[43mtorch\u001b[49m\u001b[38;5;241;43m.\u001b[39;49m\u001b[43mtensor\u001b[49m\u001b[43m(\u001b[49m\u001b[43mdata_list\u001b[49m\u001b[43m)\u001b[49m\n",
      "\u001b[1;31mValueError\u001b[0m: only one element tensors can be converted to Python scalars"
     ]
    }
   ],
   "source": [
    "torch.tensor(data_list)"
   ]
  },
  {
   "cell_type": "code",
   "execution_count": null,
   "id": "da05e979",
   "metadata": {},
   "outputs": [],
   "source": []
  },
  {
   "cell_type": "code",
   "execution_count": null,
   "id": "4ceaa6e8",
   "metadata": {},
   "outputs": [],
   "source": []
  },
  {
   "cell_type": "code",
   "execution_count": 102,
   "id": "b9534a69",
   "metadata": {},
   "outputs": [
    {
     "data": {
      "text/plain": [
       "torch.int64"
      ]
     },
     "execution_count": 102,
     "metadata": {},
     "output_type": "execute_result"
    }
   ],
   "source": [
    "data_loader.dataset[0][1].dtype"
   ]
  },
  {
   "cell_type": "code",
   "execution_count": 107,
   "id": "c4a1f5fe",
   "metadata": {},
   "outputs": [
    {
     "data": {
      "text/plain": [
       "tensor([  1,   4,  28,   8,   4, 195, 151,  17,  32,  67,   4, 353,  11, 711,\n",
       "          8,  24,   3, 496,   5,   2], dtype=torch.int16)"
      ]
     },
     "execution_count": 107,
     "metadata": {},
     "output_type": "execute_result"
    }
   ],
   "source": [
    "data_loader.dataset[0][1].to(torch.int16)"
   ]
  },
  {
   "cell_type": "code",
   "execution_count": 110,
   "id": "55994489",
   "metadata": {},
   "outputs": [
    {
     "data": {
      "text/plain": [
       "tensor([[[-0.6108, -0.3027,  0.1255,  ..., -1.8271, -1.7930, -1.4160],\n",
       "         [-0.3198, -0.6279, -0.8164,  ..., -1.7930, -1.7930, -1.6387],\n",
       "         [-0.1315, -0.2341, -0.4910,  ..., -1.8438, -1.8955, -1.8438],\n",
       "         ...,\n",
       "         [-0.1315,  0.0227,  0.1768,  ...,  2.0605,  2.1113,  2.0605],\n",
       "         [ 0.2281,  0.3481,  0.3137,  ...,  2.0781,  2.0957,  2.1113],\n",
       "         [ 0.4165,  0.2966,  0.4509,  ...,  2.1465,  2.0957,  2.0430]],\n",
       "\n",
       "        [[-1.0205, -0.7754, -0.3726,  ..., -1.5459, -1.5107, -0.9150],\n",
       "         [-0.4951, -0.7051, -1.0908,  ..., -1.4229, -1.4580, -1.2305],\n",
       "         [-0.3201, -0.3201, -0.7402,  ..., -1.3877, -1.4580, -1.4756],\n",
       "         ...,\n",
       "         [-0.3025, -0.2150, -0.0049,  ...,  2.3066,  2.3242,  2.2891],\n",
       "         [ 0.0476,  0.1002,  0.1002,  ...,  2.3066,  2.3066,  2.3242],\n",
       "         [ 0.1876,  0.0476,  0.1177,  ...,  2.2539,  2.2715,  2.2715]],\n",
       "\n",
       "        [[-1.2295, -1.2295, -1.1250,  ..., -1.6123, -1.7178, -1.5781],\n",
       "         [-0.4451, -0.7065, -1.0898,  ..., -1.6475, -1.7695, -1.7178],\n",
       "         [-0.3579, -0.2881, -0.7236,  ..., -1.7520, -1.7344, -1.7695],\n",
       "         ...,\n",
       "         [-0.4102, -0.3054, -0.2881,  ...,  2.5352,  2.5000,  2.3789],\n",
       "         [-0.1487, -0.1661, -0.2009,  ...,  2.5176,  2.4648,  2.5000],\n",
       "         [-0.0790, -0.1661, -0.1138,  ...,  2.3438,  2.4141,  2.4824]]],\n",
       "       dtype=torch.float16)"
      ]
     },
     "execution_count": 110,
     "metadata": {},
     "output_type": "execute_result"
    }
   ],
   "source": [
    "data_loader.dataset[0][0].to(torch.float16)"
   ]
  },
  {
   "cell_type": "code",
   "execution_count": 120,
   "id": "f49115cb",
   "metadata": {},
   "outputs": [
    {
     "data": {
      "text/plain": [
       "1000"
      ]
     },
     "execution_count": 120,
     "metadata": {},
     "output_type": "execute_result"
    }
   ],
   "source": [
    "len(data_loader.dataset[:])"
   ]
  },
  {
   "cell_type": "code",
   "execution_count": 118,
   "id": "ccbcc2c0",
   "metadata": {},
   "outputs": [
    {
     "ename": "AttributeError",
     "evalue": "'list' object has no attribute 'shape'",
     "output_type": "error",
     "traceback": [
      "\u001b[1;31m---------------------------------------------------------------------------\u001b[0m",
      "\u001b[1;31mAttributeError\u001b[0m                            Traceback (most recent call last)",
      "Cell \u001b[1;32mIn[118], line 1\u001b[0m\n\u001b[1;32m----> 1\u001b[0m \u001b[43mdata_loader\u001b[49m\u001b[38;5;241;43m.\u001b[39;49m\u001b[43mdataset\u001b[49m\u001b[38;5;241;43m.\u001b[39;49m\u001b[43mshape\u001b[49m\n",
      "\u001b[1;31mAttributeError\u001b[0m: 'list' object has no attribute 'shape'"
     ]
    }
   ],
   "source": [
    "data_loader.dataset"
   ]
  },
  {
   "cell_type": "code",
   "execution_count": 80,
   "id": "b0d930e4",
   "metadata": {},
   "outputs": [
    {
     "name": "stdout",
     "output_type": "stream",
     "text": [
      "tensor([[  1,   4,  28,  ...,   0,   0,   0],\n",
      "        [  1,   4,   7,  ...,   0,   0,   0],\n",
      "        [  1,   4,   9,  ...,   0,   0,   0],\n",
      "        ...,\n",
      "        [  1,   4,  53,  ...,   0,   0,   0],\n",
      "        [  1,   4,  20,  ...,   0,   0,   0],\n",
      "        [  1,   4, 251,  ...,   0,   0,   0]])\n",
      "tensor([[ 1,  4, 30,  ...,  0,  0,  0],\n",
      "        [ 1,  4,  6,  ...,  0,  0,  0],\n",
      "        [ 1,  4,  6,  ...,  0,  0,  0],\n",
      "        ...,\n",
      "        [ 1,  4, 56,  ...,  0,  0,  0],\n",
      "        [ 1,  4, 56,  ...,  0,  0,  0],\n",
      "        [ 1, 50, 96,  ...,  0,  0,  0]])\n",
      "tensor([[  1,  50, 321,  ...,   0,   0,   0],\n",
      "        [  1,  50,  51,  ...,   0,   0,   0],\n",
      "        [  1,  50,  51,  ...,   0,   0,   0],\n",
      "        ...,\n",
      "        [  1,   4,  14,  ...,   0,   0,   0],\n",
      "        [  1, 102,  10,  ...,   0,   0,   0],\n",
      "        [  1, 204,  17,  ...,   0,   0,   0]])\n",
      "tensor([[ 1, 10, 43,  ...,  0,  0,  0],\n",
      "        [ 1, 10, 43,  ...,  0,  0,  0],\n",
      "        [ 1,  4, 85,  ...,  0,  0,  0],\n",
      "        ...,\n",
      "        [ 1,  4, 93,  ...,  0,  0,  0],\n",
      "        [ 1,  4, 93,  ...,  0,  0,  0],\n",
      "        [ 1,  4, 93,  ...,  0,  0,  0]])\n",
      "tensor([[  1,  50,   3,  ...,   0,   0,   0],\n",
      "        [  1,  50, 832,  ...,   0,   0,   0],\n",
      "        [  1,  50, 832,  ...,   0,   0,   0],\n",
      "        ...,\n",
      "        [  1,   4, 117,  ...,   0,   0,   0],\n",
      "        [  1,   4,  56,  ...,   0,   0,   0],\n",
      "        [  1,   4, 413,  ...,   0,   0,   0]])\n",
      "tensor([[ 1,  4, 20,  ...,  0,  0,  0],\n",
      "        [ 1,  4, 20,  ...,  0,  0,  0],\n",
      "        [ 1,  4, 20,  ...,  0,  0,  0],\n",
      "        ...,\n",
      "        [ 1,  4, 43,  ...,  0,  0,  0],\n",
      "        [ 1,  4, 43,  ...,  0,  0,  0],\n",
      "        [ 1,  4, 28,  ...,  0,  0,  0]])\n",
      "tensor([[   1,   73,   44,  ...,    0,    0,    0],\n",
      "        [   1,   10,   14,  ...,    0,    0,    0],\n",
      "        [   1,    4,   14,  ...,    0,    0,    0],\n",
      "        ...,\n",
      "        [   1,    4,   61,  ...,    0,    0,    0],\n",
      "        [   1,   10,    7,  ..., 1295,    5,    2],\n",
      "        [   1,   50,   61,  ...,    0,    0,    0]])\n",
      "tensor([[   1, 1111,  156,  ...,    0,    0,    0],\n",
      "        [   1,   50,   96,  ...,    0,    0,    0],\n",
      "        [   1,   50,   68,  ...,    0,    0,    0],\n",
      "        ...,\n",
      "        [   1,    4,   80,  ...,    0,    0,    0],\n",
      "        [   1,    4,   80,  ...,    0,    0,    0],\n",
      "        [   1,    4,   80,  ...,    5,    2,    0]])\n",
      "tensor([[   1,   10,   30,  ...,    0,    0,    0],\n",
      "        [   1,    4,  194,  ...,    0,    0,    0],\n",
      "        [   1,    4,    6,  ...,    0,    0,    0],\n",
      "        ...,\n",
      "        [   1,    4, 2458,  ...,  236,    5,    2],\n",
      "        [   1,    4,   56,  ...,    0,    0,    0],\n",
      "        [   1,    4,    3,  ...,    0,    0,    0]])\n",
      "tensor([[  1,  68,  34,  ...,   0,   0,   0],\n",
      "        [  1,  68, 291,  ...,   0,   0,   0],\n",
      "        [  1, 139,  68,  ...,   0,   0,   0],\n",
      "        ...,\n",
      "        [  1, 204,  17,  ...,   0,   0,   0],\n",
      "        [  1,   4,   9,  ...,   0,   0,   0],\n",
      "        [  1,   4,  61,  ...,   0,   0,   0]])\n",
      "tensor([[ 1,  4, 20,  ...,  0,  0,  0],\n",
      "        [ 1,  4, 30,  ..., 68,  5,  2],\n",
      "        [ 1,  4, 30,  ...,  0,  0,  0],\n",
      "        ...,\n",
      "        [ 1,  4, 61,  ...,  0,  0,  0],\n",
      "        [ 1,  4, 61,  ...,  0,  0,  0],\n",
      "        [ 1,  4, 61,  ...,  0,  0,  0]])\n",
      "tensor([[   1,    4,    9,  ...,    0,    0,    0],\n",
      "        [   1,    4, 2087,  ...,    0,    0,    0],\n",
      "        [   1,    4,   85,  ...,    0,    0,    0],\n",
      "        ...,\n",
      "        [   1,   71,  237,  ...,    0,    0,    0],\n",
      "        [   1,   71,  238,  ...,    0,    0,    0],\n",
      "        [   1,   71,   61,  ...,    0,    0,    0]])\n",
      "tensor([[ 1,  4, 26,  ...,  0,  0,  0],\n",
      "        [ 1,  4, 30,  ...,  0,  0,  0],\n",
      "        [ 1, 30,  6,  ...,  0,  0,  0],\n",
      "        ...,\n",
      "        [ 1,  4, 85,  ...,  0,  0,  0],\n",
      "        [ 1,  4, 61,  ...,  0,  0,  0],\n",
      "        [ 1, 10, 28,  ...,  0,  0,  0]])\n",
      "tensor([[  1,   4,  61,  ...,   2,   0,   0],\n",
      "        [  1,   4,  28,  ...,   0,   0,   0],\n",
      "        [  1,   4,  43,  ...,   0,   0,   0],\n",
      "        ...,\n",
      "        [  1,   4, 225,  ...,   0,   0,   0],\n",
      "        [  1,   4, 225,  ...,   0,   0,   0],\n",
      "        [  1,   4,  14,  ...,   2,   0,   0]])\n",
      "tensor([[ 1,  4, 43,  ...,  0,  0,  0],\n",
      "        [ 1,  4, 28,  ...,  0,  0,  0],\n",
      "        [ 1,  4, 14,  ...,  0,  0,  0],\n",
      "        ...,\n",
      "        [ 1, 56, 79,  ...,  0,  0,  0],\n",
      "        [ 1,  4, 14,  ...,  0,  0,  0],\n",
      "        [ 1,  4, 14,  ...,  0,  0,  0]])\n",
      "tensor([[  1,   4, 251,  ...,   0,   0,   0],\n",
      "        [  1,  50,  51,  ...,   0,   0,   0],\n",
      "        [  1,  50,  51,  ...,   0,   0,   0],\n",
      "        ...,\n",
      "        [  1,  50, 134,  ...,   0,   0,   0],\n",
      "        [  1,  50,  97,  ...,   0,   0,   0],\n",
      "        [  1,  50,  61,  ...,   0,   0,   0]])\n",
      "tensor([[ 1,  4, 30,  ...,  0,  0,  0],\n",
      "        [ 1,  4,  6,  ...,  0,  0,  0],\n",
      "        [ 1,  4,  6,  ...,  0,  0,  0],\n",
      "        ...,\n",
      "        [ 1,  4, 14,  ...,  0,  0,  0],\n",
      "        [ 1,  4, 56,  ...,  0,  0,  0],\n",
      "        [ 1, 56, 46,  ...,  0,  0,  0]])\n",
      "tensor([[  1,   4,  80,  ...,   0,   0,   0],\n",
      "        [  1,   4,  80,  ...,   0,   0,   0],\n",
      "        [  1,  68, 661,  ...,   0,   0,   0],\n",
      "        ...,\n",
      "        [  1,  50,  96,  ...,   0,   0,   0],\n",
      "        [  1,  50,  68,  ...,   0,   0,   0],\n",
      "        [  1,  50,  68,  ...,   0,   0,   0]])\n",
      "tensor([[   1,   50,   61,  ...,    0,    0,    0],\n",
      "        [   1,   50,  237,  ...,    0,    0,    0],\n",
      "        [   1,   50,   61,  ...,    0,    0,    0],\n",
      "        ...,\n",
      "        [   1,    4,   14,  ...,    0,    0,    0],\n",
      "        [   1,   24,  427,  ...,    0,    0,    0],\n",
      "        [   1, 1708, 1707,  ...,    0,    0,    0]])\n",
      "tensor([[   1,   50,   68,  ...,    0,    0,    0],\n",
      "        [   1,   50,   96,  ...,    0,    0,    0],\n",
      "        [   1,   50,   96,  ...,    0,    0,    0],\n",
      "        ...,\n",
      "        [   1,    4,   30,  ...,    0,    0,    0],\n",
      "        [   1,    4,   53,  ...,    0,    0,    0],\n",
      "        [   1,    4, 1593,  ...,    0,    0,    0]])\n",
      "0.267078161239624\n"
     ]
    }
   ],
   "source": [
    "t0 = time.time()\n",
    "\n",
    "for i, j in data_loader:\n",
    "    print(j)\n",
    "\n",
    "t1 = time.time()\n",
    "print(t1-t0)"
   ]
  },
  {
   "cell_type": "code",
   "execution_count": 59,
   "id": "aebf6e0e",
   "metadata": {},
   "outputs": [
    {
     "ename": "AttributeError",
     "evalue": "'list' object has no attribute 'shape'",
     "output_type": "error",
     "traceback": [
      "\u001b[1;31m---------------------------------------------------------------------------\u001b[0m",
      "\u001b[1;31mAttributeError\u001b[0m                            Traceback (most recent call last)",
      "Cell \u001b[1;32mIn[59], line 1\u001b[0m\n\u001b[1;32m----> 1\u001b[0m \u001b[43mdata_loader\u001b[49m\u001b[38;5;241;43m.\u001b[39;49m\u001b[43mdataset\u001b[49m\u001b[38;5;241;43m.\u001b[39;49m\u001b[43mshape\u001b[49m\n",
      "\u001b[1;31mAttributeError\u001b[0m: 'list' object has no attribute 'shape'"
     ]
    }
   ],
   "source": [
    "data_loader.dataset"
   ]
  },
  {
   "cell_type": "code",
   "execution_count": 86,
   "id": "6a7f2e3b",
   "metadata": {},
   "outputs": [
    {
     "data": {
      "text/html": [
       "<div>\n",
       "<style scoped>\n",
       "    .dataframe tbody tr th:only-of-type {\n",
       "        vertical-align: middle;\n",
       "    }\n",
       "\n",
       "    .dataframe tbody tr th {\n",
       "        vertical-align: top;\n",
       "    }\n",
       "\n",
       "    .dataframe thead th {\n",
       "        text-align: right;\n",
       "    }\n",
       "</style>\n",
       "<table border=\"1\" class=\"dataframe\">\n",
       "  <thead>\n",
       "    <tr style=\"text-align: right;\">\n",
       "      <th></th>\n",
       "      <th>image</th>\n",
       "      <th>caption</th>\n",
       "    </tr>\n",
       "  </thead>\n",
       "  <tbody>\n",
       "    <tr>\n",
       "      <th>0</th>\n",
       "      <td>1000268201_693b08cb0e.jpg</td>\n",
       "      <td>A child in a pink dress is climbing up a set o...</td>\n",
       "    </tr>\n",
       "    <tr>\n",
       "      <th>1</th>\n",
       "      <td>1000268201_693b08cb0e.jpg</td>\n",
       "      <td>A girl going into a wooden building .</td>\n",
       "    </tr>\n",
       "    <tr>\n",
       "      <th>2</th>\n",
       "      <td>1000268201_693b08cb0e.jpg</td>\n",
       "      <td>A little girl climbing into a wooden playhouse .</td>\n",
       "    </tr>\n",
       "    <tr>\n",
       "      <th>3</th>\n",
       "      <td>1000268201_693b08cb0e.jpg</td>\n",
       "      <td>A little girl climbing the stairs to her playh...</td>\n",
       "    </tr>\n",
       "    <tr>\n",
       "      <th>4</th>\n",
       "      <td>1000268201_693b08cb0e.jpg</td>\n",
       "      <td>A little girl in a pink dress going into a woo...</td>\n",
       "    </tr>\n",
       "    <tr>\n",
       "      <th>...</th>\n",
       "      <td>...</td>\n",
       "      <td>...</td>\n",
       "    </tr>\n",
       "    <tr>\n",
       "      <th>40450</th>\n",
       "      <td>997722733_0cb5439472.jpg</td>\n",
       "      <td>A man in a pink shirt climbs a rock face</td>\n",
       "    </tr>\n",
       "    <tr>\n",
       "      <th>40451</th>\n",
       "      <td>997722733_0cb5439472.jpg</td>\n",
       "      <td>A man is rock climbing high in the air .</td>\n",
       "    </tr>\n",
       "    <tr>\n",
       "      <th>40452</th>\n",
       "      <td>997722733_0cb5439472.jpg</td>\n",
       "      <td>A person in a red shirt climbing up a rock fac...</td>\n",
       "    </tr>\n",
       "    <tr>\n",
       "      <th>40453</th>\n",
       "      <td>997722733_0cb5439472.jpg</td>\n",
       "      <td>A rock climber in a red shirt .</td>\n",
       "    </tr>\n",
       "    <tr>\n",
       "      <th>40454</th>\n",
       "      <td>997722733_0cb5439472.jpg</td>\n",
       "      <td>A rock climber practices on a rock climbing wa...</td>\n",
       "    </tr>\n",
       "  </tbody>\n",
       "</table>\n",
       "<p>40455 rows × 2 columns</p>\n",
       "</div>"
      ],
      "text/plain": [
       "                           image  \\\n",
       "0      1000268201_693b08cb0e.jpg   \n",
       "1      1000268201_693b08cb0e.jpg   \n",
       "2      1000268201_693b08cb0e.jpg   \n",
       "3      1000268201_693b08cb0e.jpg   \n",
       "4      1000268201_693b08cb0e.jpg   \n",
       "...                          ...   \n",
       "40450   997722733_0cb5439472.jpg   \n",
       "40451   997722733_0cb5439472.jpg   \n",
       "40452   997722733_0cb5439472.jpg   \n",
       "40453   997722733_0cb5439472.jpg   \n",
       "40454   997722733_0cb5439472.jpg   \n",
       "\n",
       "                                                 caption  \n",
       "0      A child in a pink dress is climbing up a set o...  \n",
       "1                  A girl going into a wooden building .  \n",
       "2       A little girl climbing into a wooden playhouse .  \n",
       "3      A little girl climbing the stairs to her playh...  \n",
       "4      A little girl in a pink dress going into a woo...  \n",
       "...                                                  ...  \n",
       "40450           A man in a pink shirt climbs a rock face  \n",
       "40451           A man is rock climbing high in the air .  \n",
       "40452  A person in a red shirt climbing up a rock fac...  \n",
       "40453                    A rock climber in a red shirt .  \n",
       "40454  A rock climber practices on a rock climbing wa...  \n",
       "\n",
       "[40455 rows x 2 columns]"
      ]
     },
     "execution_count": 86,
     "metadata": {},
     "output_type": "execute_result"
    }
   ],
   "source": [
    "dataset.df"
   ]
  },
  {
   "cell_type": "code",
   "execution_count": null,
   "id": "7eeb5080",
   "metadata": {},
   "outputs": [],
   "source": []
  }
 ],
 "metadata": {
  "kernelspec": {
   "display_name": "xnap-example",
   "language": "python",
   "name": "xnap-example"
  },
  "language_info": {
   "codemirror_mode": {
    "name": "ipython",
    "version": 3
   },
   "file_extension": ".py",
   "mimetype": "text/x-python",
   "name": "python",
   "nbconvert_exporter": "python",
   "pygments_lexer": "ipython3",
   "version": "3.8.16"
  }
 },
 "nbformat": 4,
 "nbformat_minor": 5
}
